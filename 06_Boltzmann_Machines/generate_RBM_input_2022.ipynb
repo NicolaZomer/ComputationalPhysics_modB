{
 "cells": [
  {
   "cell_type": "code",
   "metadata": {
    "cell_id": "c4716b8e-d2bb-4372-bb69-ccb77bb8b532",
    "deepnote_to_be_reexecuted": false,
    "source_hash": "2b802b9",
    "execution_start": 1649761683976,
    "execution_millis": 645,
    "deepnote_cell_type": "code",
    "deepnote_cell_height": 148
   },
   "source": "import numpy as np\n\n!mkdir DATA",
   "outputs": [],
   "execution_count": null
  },
  {
   "cell_type": "code",
   "metadata": {
    "cell_id": "00001-bbee8ba6-911e-4867-b78a-3d4f37be0172",
    "owner_user_id": "b13979ef-4b77-458b-bb3e-148a16361dfe",
    "deepnote_to_be_reexecuted": false,
    "source_hash": "e2b8ce64",
    "execution_start": 1649761684635,
    "execution_millis": 357,
    "deepnote_cell_type": "code",
    "deepnote_cell_height": 1128
   },
   "source": "# random seed for reproducibility\n\nnp.random.seed(12345)\nprint(\"random numbers from seed 12345:\",np.random.random(4))\n    \n    \n# number of data\nN=10000\n# 4 intervals of length Z=L/4, each containing a set of 1's or 0's\nZ=4\n# size of each data point\nL=Z*4\n# choose among states (1,0,1,0), (0,1,1,0), (1,0,0,1), (0,1,0,1) \n# from a 2x2 product of (1,0)x(1,0), with prob=1/4\n# then\n# Noise: switch each of L bits with probability q\nq=0.3\n\nx,y = np.zeros((N,L)),np.zeros(N)\nvec1 = np.ones(Z)  \n\ndef ones(n,i,j):\n    x[n][Z*i:Z*(i+1)] = vec1\n    x[n][2*Z+Z*j:2*Z+Z*(j+1)] = vec1\n    \nfor n in range(N):\n    a = np.random.randint(0,2)\n    b = np.random.randint(0,2)\n    y[n] = a+b*2\n    ones(n,a,b)\n    \n    for j in range(L):\n        if np.random.random()<q:\n             x[n][j] = 1-x[n][j]\n                \nx,y = x.astype(int),y.astype(int)\n\nfor n in range(min(12,N)):\n    print(x[n],y[n])\nprint(\"...\")\n    \nnp.savetxt('DATA/x_RBM_q'+str(q)+'.dat',x,delimiter=\" \",fmt=\"%d\")\nnp.savetxt('DATA/y_RBM_q'+str(q)+'.dat',y,fmt=\"%d\")",
   "outputs": [
    {
     "name": "stdout",
     "text": "random numbers from seed 12345: [0.92961609 0.31637555 0.18391881 0.20456028]\n[0 0 0 0 1 1 1 0 0 0 1 1 0 0 0 0] 1\n[1 1 1 1 0 0 0 1 1 0 0 1 1 1 1 0] 2\n[1 1 1 1 1 1 1 0 1 1 0 1 1 0 0 0] 0\n[0 0 0 0 1 1 1 0 0 1 1 1 0 0 0 0] 1\n[1 1 0 0 0 0 0 0 0 1 0 0 1 0 1 1] 2\n[0 0 0 0 0 1 1 1 0 1 1 1 1 0 0 1] 3\n[1 1 1 1 1 0 0 1 0 0 0 0 1 1 1 0] 2\n[0 0 0 1 0 1 1 0 1 1 1 1 1 0 0 1] 1\n[1 1 0 0 0 1 0 0 1 1 1 0 1 1 0 0] 0\n[0 1 1 0 0 0 0 0 0 0 0 0 1 0 1 1] 2\n[1 1 1 1 1 1 0 0 0 0 1 0 0 0 1 0] 0\n[0 0 1 0 1 0 1 0 1 1 1 1 0 1 0 0] 0\n...\n",
     "output_type": "stream"
    }
   ],
   "execution_count": null
  },
  {
   "cell_type": "code",
   "metadata": {
    "cell_id": "00002-43158eeb-5a48-473c-80b2-8fa8a53f820b",
    "deepnote_to_be_reexecuted": false,
    "source_hash": "b623e53d",
    "execution_start": 1649761684911,
    "execution_millis": 2,
    "deepnote_cell_type": "code",
    "deepnote_cell_height": 81
   },
   "source": "",
   "outputs": [],
   "execution_count": null
  },
  {
   "cell_type": "markdown",
   "source": "<a style='text-decoration:none;line-height:16px;display:flex;color:#5B5B62;padding:10px;justify-content:end;' href='https://deepnote.com?utm_source=created-in-deepnote-cell&projectId=3c8e8699-579b-4f24-9413-a98afebf04a2' target=\"_blank\">\n<img alt='Created in deepnote.com' style='display:inline;max-height:16px;margin:0px;margin-right:7.5px;' src='data:image/svg+xml;base64,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' > </img>\nCreated in <span style='font-weight:600;margin-left:4px;'>Deepnote</span></a>",
   "metadata": {
    "tags": [],
    "created_in_deepnote_cell": true,
    "deepnote_cell_type": "markdown"
   }
  }
 ],
 "nbformat": 4,
 "nbformat_minor": 4,
 "metadata": {
  "kernelspec": {
   "display_name": "Python 3 (ipykernel)",
   "language": "python",
   "name": "python3"
  },
  "language_info": {
   "codemirror_mode": {
    "name": "ipython",
    "version": 3
   },
   "file_extension": ".py",
   "mimetype": "text/x-python",
   "name": "python",
   "nbconvert_exporter": "python",
   "pygments_lexer": "ipython3",
   "version": "3.10.2"
  },
  "deepnote_notebook_id": "0c10151f-04a5-4ebc-be9c-c6ff517422c1",
  "deepnote": {},
  "deepnote_execution_queue": []
 }
}