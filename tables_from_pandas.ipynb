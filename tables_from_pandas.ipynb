{
 "cells": [
  {
   "cell_type": "code",
   "metadata": {
    "tags": [],
    "cell_id": "34475c05-be9d-46bc-af3d-80f16b959ea2",
    "deepnote_to_be_reexecuted": false,
    "source_hash": "f01204a9",
    "execution_start": 1647701843518,
    "execution_millis": 4,
    "deepnote_cell_type": "code",
    "deepnote_cell_height": 117
   },
   "source": "import pandas as pd\nimport numpy as np\n",
   "execution_count": null,
   "outputs": []
  },
  {
   "cell_type": "markdown",
   "source": "# Table one/three",
   "metadata": {
    "cell_id": "8830b804-6147-40a1-bc1f-978e7dad4420",
    "tags": [],
    "deepnote_cell_type": "markdown",
    "deepnote_cell_height": 82
   }
  },
  {
   "cell_type": "code",
   "metadata": {
    "cell_id": "fb1456d1-a36e-422c-ab13-3c0b241bdbe9",
    "tags": [],
    "deepnote_to_be_reexecuted": false,
    "source_hash": "2e752078",
    "execution_start": 1647704499982,
    "execution_millis": 2,
    "deepnote_cell_type": "code",
    "deepnote_cell_height": 976.796875,
    "deepnote_output_heights": [
     597.1875
    ]
   },
   "source": "import re\n\nrows = ['All-zeros', 'Random', 'LeCun', 'Glorot', 'He']\ncolumns = ['Train Acc.', 'Train Loss', 'Test Acc.', 'Test Loss']\n\ndata = [[0.5138, 0.6928, 0.515, 0.6927], [0.9416, 0.1661, 0.9275, 0.2555], [0.9622, 0.1197, 0.9400, 0.1987], \n    [0.9506, 0.1436, 0.9488, 0.1794], [0.9606, 0.1055, 0.9488, 0.1838]]\n\ndf = pd.DataFrame(data=data, index=rows, columns=columns)\n# display(df.round(4))\n\ntex_content = df.to_latex(index=True, bold_rows=False)\n\nprint(tex_content)\nre_borders = re.compile(r\"begin\\{tabular\\}\\{([^\\}]+)\\}\")\nborders = re_borders.findall(tex_content)[0]\nborders = '|'.join(list(borders))\ntex_content = re_borders.sub(\"begin{tabular}{\" + borders + \"}\", tex_content)\nprint(tex_content)\n\n",
   "execution_count": null,
   "outputs": [
    {
     "name": "stdout",
     "text": "\\begin{tabular}{lrrrr}\n\\toprule\n{} &  Train Acc. &  Train Loss &  Test Acc. &  Test Loss \\\\\n\\midrule\nAll-zeros &      0.5138 &      0.6928 &     0.5150 &     0.6927 \\\\\nRandom    &      0.9416 &      0.1661 &     0.9275 &     0.2555 \\\\\nLeCun     &      0.9622 &      0.1197 &     0.9400 &     0.1987 \\\\\nGlorot    &      0.9506 &      0.1436 &     0.9488 &     0.1794 \\\\\nHe        &      0.9606 &      0.1055 &     0.9488 &     0.1838 \\\\\n\\bottomrule\n\\end{tabular}\n\n\\begin{tabular}{l|r|r|r|r}\n\\toprule\n{} &  Train Acc. &  Train Loss &  Test Acc. &  Test Loss \\\\\n\\midrule\nAll-zeros &      0.5138 &      0.6928 &     0.5150 &     0.6927 \\\\\nRandom    &      0.9416 &      0.1661 &     0.9275 &     0.2555 \\\\\nLeCun     &      0.9622 &      0.1197 &     0.9400 &     0.1987 \\\\\nGlorot    &      0.9506 &      0.1436 &     0.9488 &     0.1794 \\\\\nHe        &      0.9606 &      0.1055 &     0.9488 &     0.1838 \\\\\n\\bottomrule\n\\end{tabular}\n\n<ipython-input-20-682eb1955ce3>:12: FutureWarning: In future versions `DataFrame.to_latex` is expected to utilise the base implementation of `Styler.to_latex` for formatting and rendering. The arguments signature may therefore change. It is recommended instead to use `DataFrame.style.to_latex` which also contains additional functionality.\n  tex_content = df.to_latex(index=True, bold_rows=False)\n",
     "output_type": "stream"
    }
   ]
  },
  {
   "cell_type": "code",
   "metadata": {
    "cell_id": "e0efc47d-ad1b-4e08-b8b6-6d3d943a9eb2",
    "tags": [],
    "deepnote_to_be_reexecuted": false,
    "source_hash": "9a0353c7",
    "execution_start": 1647705114278,
    "execution_millis": 21,
    "deepnote_cell_type": "code",
    "deepnote_cell_height": 910.796875
   },
   "source": "import re\n\nrows = ['(2-20-20-20-2)', '(2-30-30-30-2)']\ncolumns = ['Train Acc.', 'Train Loss', 'Test Acc.', 'Test Loss']\n\ndata = [['x', 'x','x','x'], ['x', 'x','x','x']]\n\ndf = pd.DataFrame(data=data, index=rows, columns=columns)\n# display(df.round(4))\n\ntex_content = df.to_latex(index=True, bold_rows=False)\n\nprint(tex_content)\nre_borders = re.compile(r\"begin\\{tabular\\}\\{([^\\}]+)\\}\")\nborders = re_borders.findall(tex_content)[0]\nborders = '|'.join(list(borders))\ntex_content = re_borders.sub(\"begin{tabular}{\" + borders + \"}\", tex_content)\nprint(tex_content)\n\n\n\n\n\n",
   "execution_count": null,
   "outputs": [
    {
     "name": "stdout",
     "text": "\\begin{tabular}{lllll}\n\\toprule\n{} & Train Acc. & Train Loss & Test Acc. & Test Loss \\\\\n\\midrule\n(2-20-20-20-2) &          x &          x &         x &         x \\\\\n(2-30-30-30-2) &          x &          x &         x &         x \\\\\n\\bottomrule\n\\end{tabular}\n\n\\begin{tabular}{l|l|l|l|l}\n\\toprule\n{} & Train Acc. & Train Loss & Test Acc. & Test Loss \\\\\n\\midrule\n(2-20-20-20-2) &          x &          x &         x &         x \\\\\n(2-30-30-30-2) &          x &          x &         x &         x \\\\\n\\bottomrule\n\\end{tabular}\n\n<ipython-input-21-95e53ef0d4cd>:11: FutureWarning: In future versions `DataFrame.to_latex` is expected to utilise the base implementation of `Styler.to_latex` for formatting and rendering. The arguments signature may therefore change. It is recommended instead to use `DataFrame.style.to_latex` which also contains additional functionality.\n  tex_content = df.to_latex(index=True, bold_rows=False)\n",
     "output_type": "stream"
    }
   ]
  },
  {
   "cell_type": "code",
   "metadata": {
    "cell_id": "366a8ec7-864e-4068-8a29-fbaec767317c",
    "tags": [],
    "deepnote_cell_type": "code",
    "deepnote_cell_height": 66
   },
   "source": "",
   "execution_count": null,
   "outputs": []
  },
  {
   "cell_type": "markdown",
   "source": "<a style='text-decoration:none;line-height:16px;display:flex;color:#5B5B62;padding:10px;justify-content:end;' href='https://deepnote.com?utm_source=created-in-deepnote-cell&projectId=68aafe1b-040f-4657-bf91-52c6a793f99c' target=\"_blank\">\n<img alt='Created in deepnote.com' style='display:inline;max-height:16px;margin:0px;margin-right:7.5px;' src='data:image/svg+xml;base64,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' > </img>\nCreated in <span style='font-weight:600;margin-left:4px;'>Deepnote</span></a>",
   "metadata": {
    "tags": [],
    "created_in_deepnote_cell": true,
    "deepnote_cell_type": "markdown"
   }
  }
 ],
 "nbformat": 4,
 "nbformat_minor": 2,
 "metadata": {
  "orig_nbformat": 2,
  "deepnote": {
   "is_reactive": false
  },
  "deepnote_notebook_id": "9643b3e7-108c-4248-a6a0-bcfe0714033f",
  "deepnote_execution_queue": []
 }
}